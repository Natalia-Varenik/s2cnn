{
  "nbformat": 4,
  "nbformat_minor": 0,
  "metadata": {
    "colab": {
      "name": "SCNN_for_QSAR_pred.ipynb",
      "version": "0.3.2",
      "provenance": [],
      "collapsed_sections": []
    },
    "kernelspec": {
      "name": "python3",
      "display_name": "Python 3"
    },
    "accelerator": "GPU"
  },
  "cells": [
    {
      "cell_type": "code",
      "metadata": {
        "id": "uU9nkT_-ykih",
        "colab_type": "code",
        "outputId": "1c0b554c-38c5-4954-ca7a-c12dc7af8690",
        "colab": {
          "base_uri": "https://localhost:8080/",
          "height": 34
        }
      },
      "source": [
        "!python -V"
      ],
      "execution_count": 0,
      "outputs": [
        {
          "output_type": "stream",
          "text": [
            "Python 3.6.7\n"
          ],
          "name": "stdout"
        }
      ]
    },
    {
      "cell_type": "code",
      "metadata": {
        "id": "wFWjzfXm76HE",
        "colab_type": "code",
        "outputId": "2f34667f-a3f6-4883-eb1d-d2632f24bd32",
        "colab": {
          "base_uri": "https://localhost:8080/",
          "height": 1530
        }
      },
      "source": [
        "!wget -c https://repo.continuum.io/miniconda/Miniconda3-latest-Linux-x86_64.sh\n",
        "!chmod +x Miniconda3-latest-Linux-x86_64.sh\n",
        "!time bash ./Miniconda3-latest-Linux-x86_64.sh -b -f -p /usr/local"
      ],
      "execution_count": 0,
      "outputs": [
        {
          "output_type": "stream",
          "text": [
            "--2019-04-24 20:58:31--  https://repo.continuum.io/miniconda/Miniconda3-latest-Linux-x86_64.sh\n",
            "Resolving repo.continuum.io (repo.continuum.io)... 104.18.201.79, 104.18.200.79, 2606:4700::6812:c84f, ...\n",
            "Connecting to repo.continuum.io (repo.continuum.io)|104.18.201.79|:443... connected.\n",
            "HTTP request sent, awaiting response... 200 OK\n",
            "Length: 70348401 (67M) [application/x-sh]\n",
            "Saving to: ‘Miniconda3-latest-Linux-x86_64.sh’\n",
            "\n",
            "Miniconda3-latest-L 100%[===================>]  67.09M   159MB/s    in 0.4s    \n",
            "\n",
            "2019-04-24 20:58:37 (159 MB/s) - ‘Miniconda3-latest-Linux-x86_64.sh’ saved [70348401/70348401]\n",
            "\n",
            "PREFIX=/usr/local\n",
            "reinstalling: python-3.7.3-h0371630_0 ...\n",
            "using -f (force) option\n",
            "Python 3.7.3\n",
            "reinstalling: ca-certificates-2019.1.23-0 ...\n",
            "using -f (force) option\n",
            "reinstalling: libgcc-ng-8.2.0-hdf63c60_1 ...\n",
            "using -f (force) option\n",
            "reinstalling: libstdcxx-ng-8.2.0-hdf63c60_1 ...\n",
            "using -f (force) option\n",
            "reinstalling: libffi-3.2.1-hd88cf55_4 ...\n",
            "using -f (force) option\n",
            "reinstalling: ncurses-6.1-he6710b0_1 ...\n",
            "using -f (force) option\n",
            "reinstalling: openssl-1.1.1b-h7b6447c_1 ...\n",
            "using -f (force) option\n",
            "reinstalling: xz-5.2.4-h14c3975_4 ...\n",
            "using -f (force) option\n",
            "reinstalling: yaml-0.1.7-had09818_2 ...\n",
            "using -f (force) option\n",
            "reinstalling: zlib-1.2.11-h7b6447c_3 ...\n",
            "using -f (force) option\n",
            "reinstalling: libedit-3.1.20181209-hc058e9b_0 ...\n",
            "using -f (force) option\n",
            "reinstalling: readline-7.0-h7b6447c_5 ...\n",
            "using -f (force) option\n",
            "reinstalling: tk-8.6.8-hbc83047_0 ...\n",
            "using -f (force) option\n",
            "reinstalling: sqlite-3.27.2-h7b6447c_0 ...\n",
            "using -f (force) option\n",
            "reinstalling: asn1crypto-0.24.0-py37_0 ...\n",
            "using -f (force) option\n",
            "reinstalling: certifi-2019.3.9-py37_0 ...\n",
            "using -f (force) option\n",
            "reinstalling: chardet-3.0.4-py37_1 ...\n",
            "using -f (force) option\n",
            "reinstalling: idna-2.8-py37_0 ...\n",
            "using -f (force) option\n",
            "reinstalling: pycosat-0.6.3-py37h14c3975_0 ...\n",
            "using -f (force) option\n",
            "reinstalling: pycparser-2.19-py37_0 ...\n",
            "using -f (force) option\n",
            "reinstalling: pysocks-1.6.8-py37_0 ...\n",
            "using -f (force) option\n",
            "reinstalling: ruamel_yaml-0.15.46-py37h14c3975_0 ...\n",
            "using -f (force) option\n",
            "reinstalling: six-1.12.0-py37_0 ...\n",
            "using -f (force) option\n",
            "reinstalling: cffi-1.12.2-py37h2e261b9_1 ...\n",
            "using -f (force) option\n",
            "reinstalling: setuptools-41.0.0-py37_0 ...\n",
            "using -f (force) option\n",
            "reinstalling: cryptography-2.6.1-py37h1ba5d50_0 ...\n",
            "using -f (force) option\n",
            "reinstalling: wheel-0.33.1-py37_0 ...\n",
            "using -f (force) option\n",
            "reinstalling: pip-19.0.3-py37_0 ...\n",
            "using -f (force) option\n",
            "reinstalling: pyopenssl-19.0.0-py37_0 ...\n",
            "using -f (force) option\n",
            "reinstalling: urllib3-1.24.1-py37_0 ...\n",
            "using -f (force) option\n",
            "reinstalling: requests-2.21.0-py37_0 ...\n",
            "using -f (force) option\n",
            "reinstalling: conda-4.6.14-py37_0 ...\n",
            "using -f (force) option\n",
            "using -f (force) option\n",
            "installation finished.\n",
            "WARNING:\n",
            "    You currently have a PYTHONPATH environment variable set. This may cause\n",
            "    unexpected behavior when running the Python interpreter in Miniconda3.\n",
            "    For best results, please verify that your PYTHONPATH only points to\n",
            "    directories of packages that are compatible with the Python interpreter\n",
            "    in Miniconda3: /usr/local\n",
            "\n",
            "real\t0m13.165s\n",
            "user\t0m11.784s\n",
            "sys\t0m2.313s\n"
          ],
          "name": "stdout"
        }
      ]
    },
    {
      "cell_type": "code",
      "metadata": {
        "id": "Oz1g6p5AMGq3",
        "colab_type": "code",
        "outputId": "0f76de91-4df0-4746-d2bf-78ff594cee9e",
        "colab": {
          "base_uri": "https://localhost:8080/",
          "height": 102
        }
      },
      "source": [
        "!conda install python=3.7"
      ],
      "execution_count": 0,
      "outputs": [
        {
          "output_type": "stream",
          "text": [
            "Collecting package metadata: - \b\b\\ \b\b| \b\b/ \b\b- \b\b\\ \b\b| \b\b/ \b\b- \b\b\\ \b\b| \b\b/ \b\b- \b\b\\ \b\b| \b\b/ \b\b- \b\b\\ \b\b| \b\b/ \b\b- \b\b\\ \b\b| \b\b/ \b\b- \b\b\\ \b\b| \b\b/ \b\b- \b\b\\ \b\b| \b\b/ \b\b- \b\b\\ \b\b| \b\b/ \b\bdone\n",
            "Solving environment: \\ \b\b| \b\b/ \b\b- \b\b\\ \b\b| \b\b/ \b\bdone\n",
            "\n",
            "# All requested packages already installed.\n",
            "\n"
          ],
          "name": "stdout"
        }
      ]
    },
    {
      "cell_type": "code",
      "metadata": {
        "id": "EFkN6fIHfRQV",
        "colab_type": "code",
        "outputId": "56d48344-9cac-49dc-e43b-cbb626dfba72",
        "colab": {
          "base_uri": "https://localhost:8080/",
          "height": 377
        }
      },
      "source": [
        "! pip install torch==0.4.1.post2 torchvision==0.2.1"
      ],
      "execution_count": 0,
      "outputs": [
        {
          "output_type": "stream",
          "text": [
            "Collecting torch==0.4.1.post2\n",
            "\u001b[?25l  Downloading https://files.pythonhosted.org/packages/d3/91/1b2871d6c8ca079254deae5872af32e02e9a85f07dd0834e8b3489ce138f/torch-0.4.1.post2-cp37-cp37m-manylinux1_x86_64.whl (519.5MB)\n",
            "\u001b[K    100% |████████████████████████████████| 519.5MB 32kB/s \n",
            "\u001b[?25hCollecting torchvision==0.2.1\n",
            "\u001b[?25l  Downloading https://files.pythonhosted.org/packages/ca/0d/f00b2885711e08bd71242ebe7b96561e6f6d01fdb4b9dcf4d37e2e13c5e1/torchvision-0.2.1-py2.py3-none-any.whl (54kB)\n",
            "\u001b[K    100% |████████████████████████████████| 61kB 24.5MB/s \n",
            "\u001b[?25hCollecting pillow>=4.1.1 (from torchvision==0.2.1)\n",
            "\u001b[?25l  Downloading https://files.pythonhosted.org/packages/c1/e6/ce127fa0ac17775bc7887c432ffe945c49ae141f01b477b7cd5e63b16bb5/Pillow-6.0.0-cp37-cp37m-manylinux1_x86_64.whl (2.0MB)\n",
            "\u001b[K    100% |████████████████████████████████| 2.0MB 7.1MB/s \n",
            "\u001b[?25hCollecting numpy (from torchvision==0.2.1)\n",
            "\u001b[?25l  Downloading https://files.pythonhosted.org/packages/bb/76/24e9f32c78e6f6fb26cf2596b428f393bf015b63459468119f282f70a7fd/numpy-1.16.3-cp37-cp37m-manylinux1_x86_64.whl (17.3MB)\n",
            "\u001b[K    100% |████████████████████████████████| 17.3MB 2.3MB/s \n",
            "\u001b[?25hRequirement already satisfied: six in /usr/local/lib/python3.7/site-packages (from torchvision==0.2.1) (1.12.0)\n",
            "Installing collected packages: torch, pillow, numpy, torchvision\n",
            "Successfully installed numpy-1.16.3 pillow-6.0.0 torch-0.4.1.post2 torchvision-0.2.1\n"
          ],
          "name": "stdout"
        },
        {
          "output_type": "display_data",
          "data": {
            "application/vnd.colab-display-data+json": {
              "pip_warning": {
                "packages": [
                  "numpy"
                ]
              }
            }
          },
          "metadata": {
            "tags": []
          }
        }
      ]
    },
    {
      "cell_type": "code",
      "metadata": {
        "id": "TeazXEr2iE4X",
        "colab_type": "code",
        "outputId": "8ffa8dbf-4b19-43de-d427-b24947e5f343",
        "colab": {
          "base_uri": "https://localhost:8080/",
          "height": 1635
        }
      },
      "source": [
        "# s2cnn deps\n",
        "#conda install pytorch torchvision cuda90 -c pytorch\n",
        "!conda install -c anaconda cupy  \n",
        "!pip install pynvrtc "
      ],
      "execution_count": 0,
      "outputs": [
        {
          "output_type": "stream",
          "text": [
            "Collecting package metadata: - \b\b\\ \b\b| \b\b/ \b\b- \b\b\\ \b\b| \b\b/ \b\b- \b\b\\ \b\b| \b\b/ \b\b- \b\b\\ \b\b| \b\b/ \b\b- \b\b\\ \b\b| \b\b/ \b\b- \b\b\\ \b\b| \b\b/ \b\b- \b\b\\ \b\b| \b\b/ \b\b- \b\b\\ \b\b| \b\b/ \b\b- \b\b\\ \b\b| \b\b/ \b\b- \b\b\\ \b\b| \b\b/ \b\b- \b\b\\ \b\b| \b\b/ \b\b- \b\b\\ \b\b| \b\b/ \b\b- \b\b\\ \b\b| \b\b/ \b\b- \b\b\\ \b\b| \b\b/ \b\b- \b\b\\ \b\bdone\n",
            "Solving environment: / \b\b- \b\b\\ \b\b| \b\b/ \b\b- \b\b\\ \b\b| \b\b/ \b\b- \b\b\\ \b\b| \b\b/ \b\b- \b\b\\ \b\b| \b\b/ \b\b- \b\b\\ \b\b| \b\b/ \b\b- \b\b\\ \b\b| \b\b/ \b\b- \b\b\\ \b\b| \b\b/ \b\b- \b\b\\ \b\b| \b\b/ \b\b- \b\b\\ \b\b| \b\b/ \b\b- \b\b\\ \b\b| \b\b/ \b\b- \b\b\\ \b\b| \b\b/ \b\b- \b\b\\ \b\b| \b\b/ \b\b- \b\b\\ \b\b| \b\b/ \b\b- \b\b\\ \b\b| \b\b/ \b\b- \b\b\\ \b\bdone\n",
            "\n",
            "## Package Plan ##\n",
            "\n",
            "  environment location: /usr/local\n",
            "\n",
            "  added / updated specs:\n",
            "    - cupy\n",
            "\n",
            "\n",
            "The following packages will be downloaded:\n",
            "\n",
            "    package                    |            build\n",
            "    ---------------------------|-----------------\n",
            "    blas-1.0                   |              mkl           6 KB  anaconda\n",
            "    ca-certificates-2019.1.23  |                0         126 KB  anaconda\n",
            "    certifi-2019.3.9           |           py37_0         155 KB  anaconda\n",
            "    conda-4.6.14               |           py37_0         2.1 MB  anaconda\n",
            "    cudatoolkit-10.0.130       |                0       380.0 MB  anaconda\n",
            "    cudnn-7.3.1                |       cuda10.0_0       385.1 MB  anaconda\n",
            "    cupy-5.1.0                 |   py37hc0ce245_0        12.8 MB  anaconda\n",
            "    fastrlock-0.4              |   py37he6710b0_0          30 KB  anaconda\n",
            "    intel-openmp-2019.3        |              199         886 KB  anaconda\n",
            "    libgfortran-ng-7.3.0       |       hdf63c60_0         1.3 MB  anaconda\n",
            "    mkl-2019.3                 |              199       203.3 MB  anaconda\n",
            "    mkl_fft-1.0.10             |   py37ha843d7b_0         169 KB  anaconda\n",
            "    mkl_random-1.0.2           |   py37hd81dba3_0         405 KB  anaconda\n",
            "    nccl-1.3.5                 |       cuda10.0_0         8.3 MB  anaconda\n",
            "    numpy-1.16.3               |   py37h7e9f1db_0          49 KB  anaconda\n",
            "    numpy-base-1.16.3          |   py37hde5b4d6_0         4.3 MB  anaconda\n",
            "    openssl-1.1.1              |       h7b6447c_0         5.0 MB  anaconda\n",
            "    ------------------------------------------------------------\n",
            "                                           Total:      1004.1 MB\n",
            "\n",
            "The following NEW packages will be INSTALLED:\n",
            "\n",
            "  blas               anaconda/linux-64::blas-1.0-mkl\n",
            "  cudatoolkit        anaconda/linux-64::cudatoolkit-10.0.130-0\n",
            "  cudnn              anaconda/linux-64::cudnn-7.3.1-cuda10.0_0\n",
            "  cupy               anaconda/linux-64::cupy-5.1.0-py37hc0ce245_0\n",
            "  fastrlock          anaconda/linux-64::fastrlock-0.4-py37he6710b0_0\n",
            "  intel-openmp       anaconda/linux-64::intel-openmp-2019.3-199\n",
            "  libgfortran-ng     anaconda/linux-64::libgfortran-ng-7.3.0-hdf63c60_0\n",
            "  mkl                anaconda/linux-64::mkl-2019.3-199\n",
            "  mkl_fft            anaconda/linux-64::mkl_fft-1.0.10-py37ha843d7b_0\n",
            "  mkl_random         anaconda/linux-64::mkl_random-1.0.2-py37hd81dba3_0\n",
            "  nccl               anaconda/linux-64::nccl-1.3.5-cuda10.0_0\n",
            "  numpy              anaconda/linux-64::numpy-1.16.3-py37h7e9f1db_0\n",
            "  numpy-base         anaconda/linux-64::numpy-base-1.16.3-py37hde5b4d6_0\n",
            "\n",
            "The following packages will be UPDATED:\n",
            "\n",
            "  openssl              pkgs/main::openssl-1.1.1b-h7b6447c_1 --> anaconda::openssl-1.1.1-h7b6447c_0\n",
            "\n",
            "The following packages will be SUPERSEDED by a higher-priority channel:\n",
            "\n",
            "  ca-certificates                                 pkgs/main --> anaconda\n",
            "  certifi                                         pkgs/main --> anaconda\n",
            "  conda                                           pkgs/main --> anaconda\n",
            "\n",
            "\n",
            "Proceed ([y]/n)? y\n",
            "\n",
            "\n",
            "Downloading and Extracting Packages\n",
            "cupy-5.1.0           | 12.8 MB   | : 100% 1.0/1 [00:06<00:00,  6.51s/it]              \n",
            "mkl_random-1.0.2     | 405 KB    | : 100% 1.0/1 [00:00<00:00,  9.96it/s]\n",
            "certifi-2019.3.9     | 155 KB    | : 100% 1.0/1 [00:00<00:00,  9.14it/s]\n",
            "mkl_fft-1.0.10       | 169 KB    | : 100% 1.0/1 [00:00<00:00, 11.88it/s]\n",
            "openssl-1.1.1        | 5.0 MB    | : 100% 1.0/1 [00:03<00:00,  3.66s/it]               \n",
            "intel-openmp-2019.3  | 886 KB    | : 100% 1.0/1 [00:00<00:00,  3.26it/s]               \n",
            "cudnn-7.3.1          | 385.1 MB  | : 100% 1.0/1 [01:51<00:00, 111.41s/it]               \n",
            "numpy-base-1.16.3    | 4.3 MB    | : 100% 1.0/1 [00:02<00:00,  2.17s/it]               \n",
            "fastrlock-0.4        | 30 KB     | : 100% 1.0/1 [00:00<00:00,  1.15it/s]                \n",
            "cudatoolkit-10.0.130 | 380.0 MB  | : 100% 1.0/1 [01:51<00:00, 111.93s/it]              \n",
            "blas-1.0             | 6 KB      | : 100% 1.0/1 [00:00<00:00, 36.91it/s]\n",
            "numpy-1.16.3         | 49 KB     | : 100% 1.0/1 [00:00<00:00, 21.12it/s]\n",
            "ca-certificates-2019 | 126 KB    | : 100% 1.0/1 [00:00<00:00, 12.04it/s]\n",
            "conda-4.6.14         | 2.1 MB    | : 100% 1.0/1 [00:01<00:00,  1.07s/it]              \n",
            "nccl-1.3.5           | 8.3 MB    | : 100% 1.0/1 [00:05<00:00,  5.84s/it]               \n",
            "mkl-2019.3           | 203.3 MB  | : 100% 1.0/1 [01:15<00:00, 75.49s/it]                \n",
            "libgfortran-ng-7.3.0 | 1.3 MB    | : 100% 1.0/1 [00:00<00:00,  1.36it/s]               \n",
            "Preparing transaction: / \b\b- \b\b\\ \b\b| \b\bdone\n",
            "Verifying transaction: - \b\b\\ \b\b| \b\b/ \b\b- \b\b\\ \b\b| \b\b/ \b\b- \b\b\\ \b\b| \b\bdone\n",
            "Executing transaction: - \b\b\\ \b\b| \b\b/ \b\b- \b\b\\ \b\b| \b\b/ \b\b- \b\b\\ \b\b| \b\b/ \b\b- \b\b\\ \b\b| \b\b/ \b\b- \b\b\\ \b\b| \b\b/ \b\b- \b\b\\ \b\b| \b\b/ \b\b- \b\b\\ \b\b| \b\b/ \b\b- \b\b\\ \b\b| \b\b/ \b\b- \b\b\\ \b\b| \b\b/ \b\b- \b\b\\ \b\b| \b\b/ \b\b- \b\b\\ \b\b| \b\b/ \b\b- \b\b\\ \b\b| \b\b/ \b\b- \b\b\\ \b\b| \b\b/ \b\b- \b\b\\ \b\b| \b\b/ \b\b- \b\b\\ \b\b| \b\b/ \b\b- \b\b\\ \b\b| \b\b/ \b\b- \b\b\\ \b\b| \b\b/ \b\b- \b\b\\ \b\b| \b\b/ \b\b- \b\b\\ \b\b| \b\b/ \b\b- \b\b\\ \b\b| \b\b/ \b\b- \b\b\\ \b\b| \b\b/ \b\b- \b\b\\ \b\b| \b\b/ \b\b- \b\b\\ \b\b| \b\b/ \b\b- \b\b\\ \b\b| \b\b/ \b\b- \b\b\\ \b\b| \b\b/ \b\b- \b\b\\ \b\b| \b\b/ \b\b- \b\b\\ \b\b| \b\b/ \b\b- \b\b\\ \b\b| \b\b/ \b\b- \b\b\\ \b\b| \b\b/ \b\b- \b\b\\ \b\b| \b\b/ \b\b- \b\b\\ \b\b| \b\b/ \b\b- \b\bdone\n",
            "Collecting pynvrtc\n",
            "  Downloading https://files.pythonhosted.org/packages/2c/ad/79cbfaaa325270607735c9673a87b30daf578eae7946308333aa484dc1ef/pynvrtc-9.2.tar.gz\n",
            "Building wheels for collected packages: pynvrtc\n",
            "  Building wheel for pynvrtc (setup.py) ... \u001b[?25ldone\n",
            "\u001b[?25h  Stored in directory: /root/.cache/pip/wheels/d3/f7/e8/264aa69f9a40d9cdc190dfdb6f21d94ec3322009d127438230\n",
            "Successfully built pynvrtc\n",
            "Installing collected packages: pynvrtc\n",
            "Successfully installed pynvrtc-9.2\n"
          ],
          "name": "stdout"
        }
      ]
    },
    {
      "cell_type": "code",
      "metadata": {
        "id": "PqkDWxQPyESQ",
        "colab_type": "code",
        "outputId": "a55f2f38-8637-4c26-d2f1-c31a68e5d829",
        "colab": {
          "base_uri": "https://localhost:8080/",
          "height": 1105
        }
      },
      "source": [
        "# lie_learn deps\n",
        "!conda install -c anaconda cython  \n",
        "!conda install -c anaconda requests "
      ],
      "execution_count": 0,
      "outputs": [
        {
          "output_type": "stream",
          "text": [
            "Collecting package metadata: - \b\b\\ \b\b| \b\b/ \b\b- \b\b\\ \b\b| \b\b/ \b\b- \b\b\\ \b\b| \b\b/ \b\b- \b\b\\ \b\b| \b\b/ \b\b- \b\b\\ \b\b| \b\b/ \b\b- \b\b\\ \b\b| \b\b/ \b\b- \b\b\\ \b\b| \b\b/ \b\b- \b\b\\ \b\bdone\n",
            "Solving environment: / \b\b- \b\b\\ \b\b| \b\b/ \b\b- \b\b\\ \b\b| \b\b/ \b\b- \b\b\\ \b\b| \b\b/ \b\b- \b\b\\ \b\b| \b\b/ \b\b- \b\b\\ \b\b| \b\b/ \b\b- \b\b\\ \b\b| \b\b/ \b\b- \b\b\\ \b\b| \b\b/ \b\b- \b\b\\ \b\b| \b\b/ \b\b- \b\b\\ \b\b| \b\b/ \b\b- \b\b\\ \b\b| \b\b/ \b\b- \b\b\\ \b\b| \b\b/ \b\b- \b\b\\ \b\b| \b\b/ \b\b- \b\b\\ \b\bdone\n",
            "\n",
            "## Package Plan ##\n",
            "\n",
            "  environment location: /usr/local\n",
            "\n",
            "  added / updated specs:\n",
            "    - cython\n",
            "\n",
            "\n",
            "The following packages will be downloaded:\n",
            "\n",
            "    package                    |            build\n",
            "    ---------------------------|-----------------\n",
            "    cython-0.29.7              |   py37he6710b0_0         2.2 MB  anaconda\n",
            "    ------------------------------------------------------------\n",
            "                                           Total:         2.2 MB\n",
            "\n",
            "The following NEW packages will be INSTALLED:\n",
            "\n",
            "  cython             anaconda/linux-64::cython-0.29.7-py37he6710b0_0\n",
            "\n",
            "\n",
            "Proceed ([y]/n)? y\n",
            "\n",
            "\n",
            "Downloading and Extracting Packages\n",
            "cython-0.29.7        | 2.2 MB    | : 100% 1.0/1 [00:01<00:00,  1.01s/it]              \n",
            "Preparing transaction: / \b\bdone\n",
            "Verifying transaction: \\ \b\b| \b\bdone\n",
            "Executing transaction: - \b\bdone\n",
            "Collecting package metadata: - \b\b\\ \b\b| \b\b/ \b\b- \b\b\\ \b\b| \b\b/ \b\b- \b\b\\ \b\b| \b\b/ \b\b- \b\b\\ \b\b| \b\b/ \b\b- \b\b\\ \b\b| \b\b/ \b\b- \b\b\\ \b\b| \b\b/ \b\b- \b\b\\ \b\b| \b\b/ \b\b- \b\b\\ \b\b| \b\b/ \b\b- \b\bdone\n",
            "Solving environment: | \b\b/ \b\b- \b\b\\ \b\b| \b\b/ \b\b- \b\b\\ \b\b| \b\b/ \b\b- \b\b\\ \b\b| \b\b/ \b\b- \b\b\\ \b\b| \b\b/ \b\b- \b\b\\ \b\b| \b\b/ \b\b- \b\b\\ \b\b| \b\b/ \b\b- \b\b\\ \b\b| \b\b/ \b\b- \b\b\\ \b\b| \b\b/ \b\b- \b\b\\ \b\b| \b\b/ \b\b- \b\b\\ \b\b| \b\b/ \b\b- \b\b\\ \b\b| \b\b/ \b\b- \b\b\\ \b\b| \b\b/ \b\b- \b\b\\ \b\b| \b\b/ \b\bdone\n",
            "\n",
            "## Package Plan ##\n",
            "\n",
            "  environment location: /usr/local\n",
            "\n",
            "  added / updated specs:\n",
            "    - requests\n",
            "\n",
            "\n",
            "The following packages will be downloaded:\n",
            "\n",
            "    package                    |            build\n",
            "    ---------------------------|-----------------\n",
            "    requests-2.21.0            |           py37_0          85 KB  anaconda\n",
            "    ------------------------------------------------------------\n",
            "                                           Total:          85 KB\n",
            "\n",
            "The following packages will be SUPERSEDED by a higher-priority channel:\n",
            "\n",
            "  requests                                        pkgs/main --> anaconda\n",
            "\n",
            "\n",
            "Proceed ([y]/n)? y\n",
            "\n",
            "\n",
            "Downloading and Extracting Packages\n",
            "requests-2.21.0      | 85 KB     | : 100% 1.0/1 [00:00<00:00, 10.11it/s]\n",
            "Preparing transaction: \\ \b\bdone\n",
            "Verifying transaction: / \b\bdone\n",
            "Executing transaction: \\ \b\bdone\n"
          ],
          "name": "stdout"
        }
      ]
    },
    {
      "cell_type": "code",
      "metadata": {
        "id": "skUnCvzzzvSh",
        "colab_type": "code",
        "outputId": "ffb640db-d421-43f9-a1da-74e9eadc5c08",
        "colab": {
          "base_uri": "https://localhost:8080/",
          "height": 3386
        }
      },
      "source": [
        "!conda install -c anaconda scipy  \n",
        "!conda install -c conda-forge rtree shapely  \n",
        "!conda install -c conda-forge pyembree  \n",
        "!pip install \"trimesh[easy]\""
      ],
      "execution_count": 0,
      "outputs": [
        {
          "output_type": "stream",
          "text": [
            "Collecting package metadata: - \b\b\\ \b\b| \b\b/ \b\b- \b\b\\ \b\b| \b\b/ \b\b- \b\b\\ \b\b| \b\b/ \b\b- \b\b\\ \b\b| \b\b/ \b\b- \b\b\\ \b\b| \b\b/ \b\b- \b\b\\ \b\b| \b\b/ \b\b- \b\b\\ \b\b| \b\b/ \b\bdone\n",
            "Solving environment: \\ \b\b| \b\b/ \b\b- \b\b\\ \b\b| \b\b/ \b\b- \b\b\\ \b\b| \b\b/ \b\b- \b\b\\ \b\b| \b\b/ \b\b- \b\b\\ \b\b| \b\b/ \b\b- \b\b\\ \b\b| \b\b/ \b\b- \b\b\\ \b\b| \b\b/ \b\b- \b\b\\ \b\b| \b\b/ \b\b- \b\b\\ \b\b| \b\b/ \b\b- \b\b\\ \b\b| \b\b/ \b\b- \b\b\\ \b\b| \b\b/ \b\b- \b\b\\ \b\b| \b\b/ \b\b- \b\b\\ \b\b| \b\b/ \b\b- \b\b\\ \b\b| \b\b/ \b\bdone\n",
            "\n",
            "## Package Plan ##\n",
            "\n",
            "  environment location: /usr/local\n",
            "\n",
            "  added / updated specs:\n",
            "    - scipy\n",
            "\n",
            "\n",
            "The following packages will be downloaded:\n",
            "\n",
            "    package                    |            build\n",
            "    ---------------------------|-----------------\n",
            "    scipy-1.2.1                |   py37h7c811a0_0        17.7 MB  anaconda\n",
            "    ------------------------------------------------------------\n",
            "                                           Total:        17.7 MB\n",
            "\n",
            "The following NEW packages will be INSTALLED:\n",
            "\n",
            "  scipy              anaconda/linux-64::scipy-1.2.1-py37h7c811a0_0\n",
            "\n",
            "\n",
            "Proceed ([y]/n)? y\n",
            "\n",
            "\n",
            "Downloading and Extracting Packages\n",
            "scipy-1.2.1          | 17.7 MB   | : 100% 1.0/1 [00:06<00:00,  6.61s/it]               \n",
            "Preparing transaction: \\ \b\bdone\n",
            "Verifying transaction: / \b\b- \b\bdone\n",
            "Executing transaction: | \b\b/ \b\bdone\n",
            "Collecting package metadata: - \b\b\\ \b\b| \b\b/ \b\b- \b\b\\ \b\b| \b\b/ \b\b- \b\b\\ \b\b| \b\b/ \b\b- \b\b\\ \b\b| \b\b/ \b\b- \b\b\\ \b\b| \b\b/ \b\b- \b\b\\ \b\b| \b\b/ \b\b- \b\b\\ \b\b| \b\b/ \b\b- \b\b\\ \b\b| \b\b/ \b\b- \b\b\\ \b\b| \b\b/ \b\b- \b\b\\ \b\b| \b\b/ \b\b- \b\b\\ \b\b| \b\b/ \b\b- \b\b\\ \b\b| \b\b/ \b\b- \b\b\\ \b\b| \b\b/ \b\b- \b\b\\ \b\b| \b\b/ \b\b- \b\b\\ \b\b| \b\b/ \b\b- \b\b\\ \b\b| \b\b/ \b\b- \b\b\\ \b\b| \b\b/ \b\b- \b\b\\ \b\b| \b\b/ \b\b- \b\b\\ \b\b| \b\b/ \b\b- \b\b\\ \b\b| \b\b/ \b\b- \b\b\\ \b\b| \b\b/ \b\b- \b\b\\ \b\b| \b\b/ \b\b- \b\b\\ \b\b| \b\b/ \b\b- \b\b\\ \b\bdone\n",
            "Solving environment: / \b\b- \b\b\\ \b\b| \b\b/ \b\b- \b\b\\ \b\b| \b\b/ \b\b- \b\b\\ \b\b| \b\b/ \b\b- \b\b\\ \b\b| \b\b/ \b\b- \b\b\\ \b\b| \b\b/ \b\b- \b\b\\ \b\b| \b\b/ \b\b- \b\b\\ \b\b| \b\b/ \b\b- \b\b\\ \b\b| \b\b/ \b\b- \b\b\\ \b\b| \b\b/ \b\b- \b\b\\ \b\b| \b\b/ \b\b- \b\b\\ \b\b| \b\b/ \b\bdone\n",
            "\n",
            "## Package Plan ##\n",
            "\n",
            "  environment location: /usr/local\n",
            "\n",
            "  added / updated specs:\n",
            "    - rtree\n",
            "    - shapely\n",
            "\n",
            "\n",
            "The following packages will be downloaded:\n",
            "\n",
            "    package                    |            build\n",
            "    ---------------------------|-----------------\n",
            "    ca-certificates-2019.3.9   |       hecc5488_0         146 KB  conda-forge\n",
            "    certifi-2019.3.9           |           py37_0         149 KB  conda-forge\n",
            "    conda-4.6.14               |           py37_0         2.1 MB  conda-forge\n",
            "    geos-3.7.1                 |    hf484d3e_1000         1.6 MB  conda-forge\n",
            "    libspatialindex-1.9.0      |       he1b5a44_0         3.1 MB  conda-forge\n",
            "    openssl-1.1.1b             |       h14c3975_1         4.0 MB  conda-forge\n",
            "    rtree-0.8.3                |py37h666c49c_1002          48 KB  conda-forge\n",
            "    shapely-1.6.4              |py37h2afed24_1003         331 KB  conda-forge\n",
            "    ------------------------------------------------------------\n",
            "                                           Total:        11.4 MB\n",
            "\n",
            "The following NEW packages will be INSTALLED:\n",
            "\n",
            "  geos               conda-forge/linux-64::geos-3.7.1-hf484d3e_1000\n",
            "  libspatialindex    conda-forge/linux-64::libspatialindex-1.9.0-he1b5a44_0\n",
            "  rtree              conda-forge/linux-64::rtree-0.8.3-py37h666c49c_1002\n",
            "  shapely            conda-forge/linux-64::shapely-1.6.4-py37h2afed24_1003\n",
            "\n",
            "The following packages will be UPDATED:\n",
            "\n",
            "  ca-certificates     anaconda::ca-certificates-2019.1.23-0 --> conda-forge::ca-certificates-2019.3.9-hecc5488_0\n",
            "\n",
            "The following packages will be SUPERSEDED by a higher-priority channel:\n",
            "\n",
            "  certifi                                          anaconda --> conda-forge\n",
            "  conda                                            anaconda --> conda-forge\n",
            "  openssl                anaconda::openssl-1.1.1-h7b6447c_0 --> conda-forge::openssl-1.1.1b-h14c3975_1\n",
            "\n",
            "\n",
            "Proceed ([y]/n)? y\n",
            "\n",
            "\n",
            "Downloading and Extracting Packages\n",
            "rtree-0.8.3          | 48 KB     | : 100% 1.0/1 [00:00<00:00, 17.30it/s]\n",
            "certifi-2019.3.9     | 149 KB    | : 100% 1.0/1 [00:00<00:00, 11.26it/s]\n",
            "openssl-1.1.1b       | 4.0 MB    | : 100% 1.0/1 [00:01<00:00,  1.42s/it]               \n",
            "geos-3.7.1           | 1.6 MB    | : 100% 1.0/1 [00:00<00:00,  1.18it/s]               \n",
            "shapely-1.6.4        | 331 KB    | : 100% 1.0/1 [00:00<00:00,  9.98it/s]\n",
            "conda-4.6.14         | 2.1 MB    | : 100% 1.0/1 [00:01<00:00,  1.15s/it]               \n",
            "libspatialindex-1.9. | 3.1 MB    | : 100% 1.0/1 [00:01<00:00,  1.05s/it]               \n",
            "ca-certificates-2019 | 146 KB    | : 100% 1.0/1 [00:00<00:00, 14.07it/s]\n",
            "Preparing transaction: \\ \b\bdone\n",
            "Verifying transaction: / \b\b- \b\bdone\n",
            "Executing transaction: | \b\b/ \b\b- \b\b\\ \b\bdone\n",
            "Collecting package metadata: - \b\b\\ \b\b| \b\b/ \b\b- \b\b\\ \b\b| \b\b/ \b\b- \b\b\\ \b\b| \b\b/ \b\b- \b\b\\ \b\b| \b\b/ \b\b- \b\b\\ \b\b| \b\b/ \b\b- \b\b\\ \b\b| \b\b/ \b\b- \b\b\\ \b\b| \b\b/ \b\b- \b\b\\ \b\bdone\n",
            "Solving environment: / \b\b- \b\b\\ \b\b| \b\b/ \b\b- \b\b\\ \b\b| \b\b/ \b\b- \b\b\\ \b\b| \b\b/ \b\b- \b\b\\ \b\b| \b\b/ \b\b- \b\b\\ \b\b| \b\b/ \b\b- \b\b\\ \b\b| \b\b/ \b\b- \b\b\\ \b\b| \b\b/ \b\b- \b\b\\ \b\b| \b\b/ \b\b- \b\b\\ \b\b| \b\b/ \b\b- \b\b\\ \b\b| \b\b/ \b\b- \b\b\\ \b\b| \b\b/ \b\b- \b\bdone\n",
            "\n",
            "## Package Plan ##\n",
            "\n",
            "  environment location: /usr/local\n",
            "\n",
            "  added / updated specs:\n",
            "    - pyembree\n",
            "\n",
            "\n",
            "The following packages will be downloaded:\n",
            "\n",
            "    package                    |            build\n",
            "    ---------------------------|-----------------\n",
            "    embree-2.14.0              |                0        36.6 MB  conda-forge\n",
            "    pyembree-0.1.5             |   py37h637b7d7_0          84 KB  conda-forge\n",
            "    ------------------------------------------------------------\n",
            "                                           Total:        36.7 MB\n",
            "\n",
            "The following NEW packages will be INSTALLED:\n",
            "\n",
            "  embree             conda-forge/linux-64::embree-2.14.0-0\n",
            "  pyembree           conda-forge/linux-64::pyembree-0.1.5-py37h637b7d7_0\n",
            "\n",
            "\n",
            "Proceed ([y]/n)? y\n",
            "\n",
            "\n",
            "Downloading and Extracting Packages\n",
            "pyembree-0.1.5       | 84 KB     | : 100% 1.0/1 [00:00<00:00,  1.52it/s]                \n",
            "embree-2.14.0        | 36.6 MB   | : 100% 1.0/1 [00:17<00:00, 17.15s/it]               \n",
            "Preparing transaction: | \b\bdone\n",
            "Verifying transaction: - \b\bdone\n",
            "Executing transaction: | \b\bdone\n",
            "Collecting trimesh[easy]\n",
            "\u001b[?25l  Downloading https://files.pythonhosted.org/packages/c7/75/f2cb2e90bd1cd3ce3df9590ac8f163a360663e7ccf1d3cfbf11efccabece/trimesh-2.37.40.tar.gz (322kB)\n",
            "\u001b[K    100% |████████████████████████████████| 327kB 27.9MB/s \n",
            "\u001b[?25hRequirement already satisfied: numpy in /usr/local/lib/python3.7/site-packages (from trimesh[easy]) (1.16.3)\n",
            "Requirement already satisfied: scipy in /usr/local/lib/python3.7/site-packages (from trimesh[easy]) (1.2.1)\n",
            "Collecting networkx (from trimesh[easy])\n",
            "\u001b[?25l  Downloading https://files.pythonhosted.org/packages/85/08/f20aef11d4c343b557e5de6b9548761811eb16e438cee3d32b1c66c8566b/networkx-2.3.zip (1.7MB)\n",
            "\u001b[K    100% |████████████████████████████████| 1.8MB 18.1MB/s \n",
            "\u001b[?25hCollecting lxml (from trimesh[easy])\n",
            "\u001b[?25l  Downloading https://files.pythonhosted.org/packages/66/20/49201c7bcb1c92942ac98658b09fb4a0c0dcd064d439489349bc5891207c/lxml-4.3.3-cp37-cp37m-manylinux1_x86_64.whl (5.7MB)\n",
            "\u001b[K    100% |████████████████████████████████| 5.7MB 8.0MB/s \n",
            "\u001b[?25hCollecting pyglet (from trimesh[easy])\n",
            "\u001b[?25l  Downloading https://files.pythonhosted.org/packages/1c/fc/dad5eaaab68f0c21e2f906a94ddb98175662cc5a654eee404d59554ce0fa/pyglet-1.3.2-py2.py3-none-any.whl (1.0MB)\n",
            "\u001b[K    100% |████████████████████████████████| 1.0MB 24.4MB/s \n",
            "\u001b[?25hRequirement already satisfied: shapely in /usr/local/lib/python3.7/site-packages (from trimesh[easy]) (1.6.4.post2)\n",
            "Requirement already satisfied: rtree in /usr/local/lib/python3.7/site-packages (from trimesh[easy]) (0.8.3)\n",
            "Collecting svg.path (from trimesh[easy])\n",
            "  Downloading https://files.pythonhosted.org/packages/50/2f/618c5b6804e6dda90f024f0bc2d14ffc3db00221a818ee35da478427015d/svg.path-3.0-py2.py3-none-any.whl\n",
            "Collecting sympy (from trimesh[easy])\n",
            "\u001b[?25l  Downloading https://files.pythonhosted.org/packages/21/21/f4105795ca7f35c541d82c5b06be684dd2f5cb4f508fb487cd7aea4de776/sympy-1.4-py2.py3-none-any.whl (5.3MB)\n",
            "\u001b[K    100% |████████████████████████████████| 5.3MB 7.3MB/s \n",
            "\u001b[?25hCollecting msgpack (from trimesh[easy])\n",
            "\u001b[?25l  Downloading https://files.pythonhosted.org/packages/a8/7b/630049fc4af9e68a625738612edc264ce7cb586c5001a2d4d2209a4f61c1/msgpack-0.6.1-cp37-cp37m-manylinux1_x86_64.whl (245kB)\n",
            "\u001b[K    100% |████████████████████████████████| 245kB 32.1MB/s \n",
            "\u001b[?25hRequirement already satisfied: pillow in /usr/local/lib/python3.7/site-packages (from trimesh[easy]) (6.0.0)\n",
            "Requirement already satisfied: requests in /usr/local/lib/python3.7/site-packages (from trimesh[easy]) (2.21.0)\n",
            "Collecting xxhash (from trimesh[easy])\n",
            "\u001b[?25l  Downloading https://files.pythonhosted.org/packages/2b/a8/c6f3e01a49f8d81a5d797a644cc403f44a72bd887726b23d0fcec43313bf/xxhash-1.3.0-cp37-cp37m-manylinux1_x86_64.whl (47kB)\n",
            "\u001b[K    100% |████████████████████████████████| 51kB 22.2MB/s \n",
            "\u001b[?25hCollecting pycollada (from trimesh[easy])\n",
            "\u001b[?25l  Downloading https://files.pythonhosted.org/packages/37/7d/70545d16fed218ce781f74def0cffcfdc3fe46d5c64dfe726b082befb83c/pycollada-0.6.tar.gz (103kB)\n",
            "\u001b[K    100% |████████████████████████████████| 112kB 37.5MB/s \n",
            "\u001b[?25hCollecting colorlog (from trimesh[easy])\n",
            "  Downloading https://files.pythonhosted.org/packages/68/4d/892728b0c14547224f0ac40884e722a3d00cb54e7a146aea0b3186806c9e/colorlog-4.0.2-py2.py3-none-any.whl\n",
            "Collecting decorator>=4.3.0 (from networkx->trimesh[easy])\n",
            "  Downloading https://files.pythonhosted.org/packages/5f/88/0075e461560a1e750a0dcbf77f1d9de775028c37a19a346a6c565a257399/decorator-4.4.0-py2.py3-none-any.whl\n",
            "Collecting future (from pyglet->trimesh[easy])\n",
            "\u001b[?25l  Downloading https://files.pythonhosted.org/packages/90/52/e20466b85000a181e1e144fd8305caf2cf475e2f9674e797b222f8105f5f/future-0.17.1.tar.gz (829kB)\n",
            "\u001b[K    100% |████████████████████████████████| 829kB 23.0MB/s \n",
            "\u001b[?25hRequirement already satisfied: setuptools in /usr/local/lib/python3.7/site-packages (from rtree->trimesh[easy]) (41.0.0)\n",
            "Collecting mpmath>=0.19 (from sympy->trimesh[easy])\n",
            "\u001b[?25l  Downloading https://files.pythonhosted.org/packages/ca/63/3384ebb3b51af9610086b23ea976e6d27d6d97bf140a76a365bd77a3eb32/mpmath-1.1.0.tar.gz (512kB)\n",
            "\u001b[K    100% |████████████████████████████████| 522kB 25.6MB/s \n",
            "\u001b[?25hRequirement already satisfied: chardet<3.1.0,>=3.0.2 in /usr/local/lib/python3.7/site-packages (from requests->trimesh[easy]) (3.0.4)\n",
            "Requirement already satisfied: idna<2.9,>=2.5 in /usr/local/lib/python3.7/site-packages (from requests->trimesh[easy]) (2.8)\n",
            "Requirement already satisfied: certifi>=2017.4.17 in /usr/local/lib/python3.7/site-packages (from requests->trimesh[easy]) (2019.3.9)\n",
            "Requirement already satisfied: urllib3<1.25,>=1.21.1 in /usr/local/lib/python3.7/site-packages (from requests->trimesh[easy]) (1.24.1)\n",
            "Collecting python-dateutil>=2.2 (from pycollada->trimesh[easy])\n",
            "\u001b[?25l  Downloading https://files.pythonhosted.org/packages/41/17/c62faccbfbd163c7f57f3844689e3a78bae1f403648a6afb1d0866d87fbb/python_dateutil-2.8.0-py2.py3-none-any.whl (226kB)\n",
            "\u001b[K    100% |████████████████████████████████| 235kB 31.9MB/s \n",
            "\u001b[?25hRequirement already satisfied: six>=1.5 in /usr/local/lib/python3.7/site-packages (from python-dateutil>=2.2->pycollada->trimesh[easy]) (1.12.0)\n",
            "Building wheels for collected packages: trimesh, networkx, pycollada, future, mpmath\n",
            "  Building wheel for trimesh (setup.py) ... \u001b[?25ldone\n",
            "\u001b[?25h  Stored in directory: /root/.cache/pip/wheels/e9/aa/eb/7507ca062210a4471daefa7131f6acd91bf2a9f8de79c90d7b\n",
            "  Building wheel for networkx (setup.py) ... \u001b[?25ldone\n",
            "\u001b[?25h  Stored in directory: /root/.cache/pip/wheels/de/63/64/3699be2a9d0ccdb37c7f16329acf3863fd76eda58c39c737af\n",
            "  Building wheel for pycollada (setup.py) ... \u001b[?25ldone\n",
            "\u001b[?25h  Stored in directory: /root/.cache/pip/wheels/fd/83/dc/5001cd40cc228bc5e54140e17101118c1bf39291b8cd68a7bf\n",
            "  Building wheel for future (setup.py) ... \u001b[?25ldone\n",
            "\u001b[?25h  Stored in directory: /root/.cache/pip/wheels/0c/61/d2/d6b7317325828fbb39ee6ad559dbe4664d0896da4721bf379e\n",
            "  Building wheel for mpmath (setup.py) ... \u001b[?25ldone\n",
            "\u001b[?25h  Stored in directory: /root/.cache/pip/wheels/63/9d/8e/37c3f6506ed3f152733a699e92d8e0c9f5e5f01dea262f80ad\n",
            "Successfully built trimesh networkx pycollada future mpmath\n",
            "Installing collected packages: decorator, networkx, lxml, future, pyglet, svg.path, mpmath, sympy, msgpack, xxhash, python-dateutil, pycollada, colorlog, trimesh\n",
            "Successfully installed colorlog-4.0.2 decorator-4.4.0 future-0.17.1 lxml-4.3.3 mpmath-1.1.0 msgpack-0.6.1 networkx-2.3 pycollada-0.6 pyglet-1.3.2 python-dateutil-2.8.0 svg.path-3.0 sympy-1.4 trimesh-2.37.40 xxhash-1.3.0\n"
          ],
          "name": "stdout"
        },
        {
          "output_type": "display_data",
          "data": {
            "application/vnd.colab-display-data+json": {
              "pip_warning": {
                "packages": [
                  "decorator"
                ]
              }
            }
          },
          "metadata": {
            "tags": []
          }
        }
      ]
    },
    {
      "cell_type": "code",
      "metadata": {
        "id": "LKjaI_CsTDtB",
        "colab_type": "code",
        "outputId": "3867a7dd-758d-4ba2-e2e5-7d499078b6b5",
        "colab": {
          "base_uri": "https://localhost:8080/",
          "height": 833
        }
      },
      "source": [
        "!conda install -c anaconda scikit-learn "
      ],
      "execution_count": 0,
      "outputs": [
        {
          "output_type": "stream",
          "text": [
            "Collecting package metadata: - \b\b\\ \b\b| \b\b/ \b\b- \b\b\\ \b\b| \b\b/ \b\b- \b\b\\ \b\b| \b\b/ \b\b- \b\b\\ \b\b| \b\b/ \b\b- \b\b\\ \b\b| \b\b/ \b\b- \b\b\\ \b\b| \b\b/ \b\b- \b\b\\ \b\b| \b\b/ \b\b- \b\b\\ \b\bdone\n",
            "Solving environment: / \b\b- \b\b\\ \b\b| \b\b/ \b\b- \b\b\\ \b\b| \b\b/ \b\b- \b\b\\ \b\b| \b\b/ \b\b- \b\b\\ \b\b| \b\b/ \b\b- \b\b\\ \b\b| \b\b/ \b\b- \b\b\\ \b\b| \b\b/ \b\b- \b\b\\ \b\b| \b\b/ \b\b- \b\b\\ \b\b| \b\b/ \b\b- \b\b\\ \b\b| \b\b/ \b\b- \b\b\\ \b\b| \b\b/ \b\b- \b\b\\ \b\b| \b\b/ \b\b- \b\b\\ \b\b| \b\b/ \b\b- \b\b\\ \b\b| \b\b/ \b\b- \b\b\\ \b\b| \b\b/ \b\b- \b\b\\ \b\b| \b\bdone\n",
            "\n",
            "## Package Plan ##\n",
            "\n",
            "  environment location: /usr/local\n",
            "\n",
            "  added / updated specs:\n",
            "    - scikit-learn\n",
            "\n",
            "\n",
            "The following packages will be downloaded:\n",
            "\n",
            "    package                    |            build\n",
            "    ---------------------------|-----------------\n",
            "    certifi-2019.3.9           |           py37_0         155 KB  anaconda\n",
            "    conda-4.6.14               |           py37_0         2.1 MB  anaconda\n",
            "    scikit-learn-0.20.3        |   py37hd81dba3_0         5.8 MB  anaconda\n",
            "    ------------------------------------------------------------\n",
            "                                           Total:         8.0 MB\n",
            "\n",
            "The following NEW packages will be INSTALLED:\n",
            "\n",
            "  scikit-learn       anaconda/linux-64::scikit-learn-0.20.3-py37hd81dba3_0\n",
            "\n",
            "The following packages will be UPDATED:\n",
            "\n",
            "  openssl            conda-forge::openssl-1.1.1b-h14c3975_1 --> anaconda::openssl-1.1.1-h7b6447c_0\n",
            "\n",
            "The following packages will be SUPERSEDED by a higher-priority channel:\n",
            "\n",
            "  ca-certificates    conda-forge::ca-certificates-2019.3.9~ --> anaconda::ca-certificates-2019.1.23-0\n",
            "  certifi                                       conda-forge --> anaconda\n",
            "  conda                                         conda-forge --> anaconda\n",
            "\n",
            "\n",
            "Proceed ([y]/n)? н\n",
            "Invalid choice: н\n",
            "Proceed ([y]/n)? y\n",
            "\n",
            "\n",
            "Downloading and Extracting Packages\n",
            "conda-4.6.14         | 2.1 MB    | : 100% 1.0/1 [00:01<00:00,  1.04s/it]               \n",
            "certifi-2019.3.9     | 155 KB    | : 100% 1.0/1 [00:00<00:00, 11.13it/s]\n",
            "scikit-learn-0.20.3  | 5.8 MB    | : 100% 1.0/1 [00:02<00:00,  2.49s/it]               \n",
            "Preparing transaction: - \b\b\\ \b\b| \b\b/ \b\bdone\n",
            "Verifying transaction: \\ \b\b| \b\b/ \b\b- \b\b\\ \b\b| \b\b/ \b\b- \b\b\\ \b\bdone\n",
            "Executing transaction: / \b\b- \b\b\\ \b\b| \b\b/ \b\b- \b\b\\ \b\b| \b\bdone\n"
          ],
          "name": "stdout"
        }
      ]
    },
    {
      "cell_type": "code",
      "metadata": {
        "id": "DkpYONhIW4zG",
        "colab_type": "code",
        "outputId": "3f928162-59ff-4b9f-a7aa-a4a28509b891",
        "colab": {
          "base_uri": "https://localhost:8080/",
          "height": 173
        }
      },
      "source": [
        "!pip install git+https://github.com/AMLab-Amsterdam/lie_learn"
      ],
      "execution_count": 0,
      "outputs": [
        {
          "output_type": "stream",
          "text": [
            "Collecting git+https://github.com/AMLab-Amsterdam/lie_learn\n",
            "  Cloning https://github.com/AMLab-Amsterdam/lie_learn to /tmp/pip-req-build-askb5aul\n",
            "Building wheels for collected packages: lie-learn\n",
            "  Building wheel for lie-learn (setup.py) ... \u001b[?25ldone\n",
            "\u001b[?25h  Stored in directory: /tmp/pip-ephem-wheel-cache-ytmxshdr/wheels/1d/b8/35/50ea0ac9b0956e0cff4aedf1b9b32c4ddd816dad2eef6ecdfe\n",
            "Successfully built lie-learn\n",
            "Installing collected packages: lie-learn\n",
            "Successfully installed lie-learn-0.0.0\n"
          ],
          "name": "stdout"
        }
      ]
    },
    {
      "cell_type": "code",
      "metadata": {
        "id": "2NTtZjOKHFRS",
        "colab_type": "code",
        "colab": {}
      },
      "source": [
        "#delete s2cnn\n",
        "os.chdir('/content/')\n",
        "!rm -rf s2cnn"
      ],
      "execution_count": 0,
      "outputs": []
    },
    {
      "cell_type": "code",
      "metadata": {
        "id": "bNn8Jj6A5PhG",
        "colab_type": "code",
        "outputId": "9b7cadb2-8547-4be3-ccb5-bae1217043df",
        "colab": {
          "base_uri": "https://localhost:8080/",
          "height": 136
        }
      },
      "source": [
        "!git clone https://github.com/Natalia-Varenik/s2cnn.git"
      ],
      "execution_count": 0,
      "outputs": [
        {
          "output_type": "stream",
          "text": [
            "Cloning into 's2cnn'...\n",
            "remote: Enumerating objects: 16, done.\u001b[K\n",
            "remote: Counting objects: 100% (16/16), done.\u001b[K\n",
            "remote: Compressing objects: 100% (16/16), done.\u001b[K\n",
            "remote: Total 765 (delta 6), reused 1 (delta 0), pack-reused 749\u001b[K\n",
            "Receiving objects: 100% (765/765), 919.84 KiB | 1.46 MiB/s, done.\n",
            "Resolving deltas: 100% (406/406), done.\n"
          ],
          "name": "stdout"
        }
      ]
    },
    {
      "cell_type": "code",
      "metadata": {
        "id": "ULNP8MySPrJ6",
        "colab_type": "code",
        "colab": {}
      },
      "source": [
        "import torch\n",
        "import sys\n",
        "import os"
      ],
      "execution_count": 0,
      "outputs": []
    },
    {
      "cell_type": "code",
      "metadata": {
        "id": "h0BLGOjUPSlN",
        "colab_type": "code",
        "colab": {}
      },
      "source": [
        "sys.path.append('/content/s2cnn/')"
      ],
      "execution_count": 0,
      "outputs": []
    },
    {
      "cell_type": "code",
      "metadata": {
        "id": "khXBTS6SaBj1",
        "colab_type": "code",
        "colab": {}
      },
      "source": [
        "sys.path.append('/content/s2cnn/examples/molecules/')"
      ],
      "execution_count": 0,
      "outputs": []
    },
    {
      "cell_type": "code",
      "metadata": {
        "id": "9VXTNAbjPvTN",
        "colab_type": "code",
        "colab": {}
      },
      "source": [
        "import os\n",
        "os.chdir('/content/s2cnn/')"
      ],
      "execution_count": 0,
      "outputs": []
    },
    {
      "cell_type": "code",
      "metadata": {
        "id": "ShltRxHE5X54",
        "colab_type": "code",
        "outputId": "63d04a3b-0516-4476-a831-129070ed594d",
        "colab": {
          "base_uri": "https://localhost:8080/",
          "height": 204
        }
      },
      "source": [
        "!wget http://quantum-machine.org/data/qm7.mat"
      ],
      "execution_count": 0,
      "outputs": [
        {
          "output_type": "stream",
          "text": [
            "--2019-04-24 21:45:20--  http://quantum-machine.org/data/qm7.mat\n",
            "Resolving quantum-machine.org (quantum-machine.org)... 130.149.80.145\n",
            "Connecting to quantum-machine.org (quantum-machine.org)|130.149.80.145|:80... connected.\n",
            "HTTP request sent, awaiting response... 200 OK\n",
            "Length: 17884280 (17M)\n",
            "Saving to: ‘qm7.mat’\n",
            "\n",
            "qm7.mat             100%[===================>]  17.06M  5.46MB/s    in 3.1s    \n",
            "\n",
            "2019-04-24 21:45:24 (5.46 MB/s) - ‘qm7.mat’ saved [17884280/17884280]\n",
            "\n"
          ],
          "name": "stdout"
        }
      ]
    },
    {
      "cell_type": "code",
      "metadata": {
        "id": "TDxWeYdCV79y",
        "colab_type": "code",
        "outputId": "4d474ead-4660-4f39-d006-a64a8aef7a0e",
        "colab": {
          "base_uri": "https://localhost:8080/",
          "height": 1615
        }
      },
      "source": [
        "!python setup.py install"
      ],
      "execution_count": 0,
      "outputs": [
        {
          "output_type": "stream",
          "text": [
            "running install\n",
            "running bdist_egg\n",
            "running egg_info\n",
            "creating s2cnn.egg-info\n",
            "writing s2cnn.egg-info/PKG-INFO\n",
            "writing dependency_links to s2cnn.egg-info/dependency_links.txt\n",
            "writing top-level names to s2cnn.egg-info/top_level.txt\n",
            "writing manifest file 's2cnn.egg-info/SOURCES.txt'\n",
            "reading manifest file 's2cnn.egg-info/SOURCES.txt'\n",
            "writing manifest file 's2cnn.egg-info/SOURCES.txt'\n",
            "installing library code to build/bdist.linux-x86_64/egg\n",
            "running install_lib\n",
            "running build_py\n",
            "creating build\n",
            "creating build/lib\n",
            "creating build/lib/s2cnn\n",
            "copying s2cnn/s2_ft.py -> build/lib/s2cnn\n",
            "copying s2cnn/so3_ft.py -> build/lib/s2cnn\n",
            "copying s2cnn/so3_grid.py -> build/lib/s2cnn\n",
            "copying s2cnn/so3_mm.py -> build/lib/s2cnn\n",
            "copying s2cnn/s2_mm.py -> build/lib/s2cnn\n",
            "copying s2cnn/__init__.py -> build/lib/s2cnn\n",
            "copying s2cnn/s2_grid.py -> build/lib/s2cnn\n",
            "creating build/lib/s2cnn/utils\n",
            "copying s2cnn/utils/complex.py -> build/lib/s2cnn/utils\n",
            "copying s2cnn/utils/cuda.py -> build/lib/s2cnn/utils\n",
            "copying s2cnn/utils/decorator.py -> build/lib/s2cnn/utils\n",
            "copying s2cnn/utils/__init__.py -> build/lib/s2cnn/utils\n",
            "creating build/lib/s2cnn/soft\n",
            "copying s2cnn/soft/so3_conv.py -> build/lib/s2cnn/soft\n",
            "copying s2cnn/soft/so3_rotation.py -> build/lib/s2cnn/soft\n",
            "copying s2cnn/soft/s2_fft.py -> build/lib/s2cnn/soft\n",
            "copying s2cnn/soft/s2_conv.py -> build/lib/s2cnn/soft\n",
            "copying s2cnn/soft/__init__.py -> build/lib/s2cnn/soft\n",
            "copying s2cnn/soft/so3_fft.py -> build/lib/s2cnn/soft\n",
            "copying s2cnn/soft/so3_integrate.py -> build/lib/s2cnn/soft\n",
            "creating build/bdist.linux-x86_64\n",
            "creating build/bdist.linux-x86_64/egg\n",
            "creating build/bdist.linux-x86_64/egg/s2cnn\n",
            "copying build/lib/s2cnn/s2_ft.py -> build/bdist.linux-x86_64/egg/s2cnn\n",
            "copying build/lib/s2cnn/so3_ft.py -> build/bdist.linux-x86_64/egg/s2cnn\n",
            "copying build/lib/s2cnn/so3_grid.py -> build/bdist.linux-x86_64/egg/s2cnn\n",
            "copying build/lib/s2cnn/so3_mm.py -> build/bdist.linux-x86_64/egg/s2cnn\n",
            "copying build/lib/s2cnn/s2_mm.py -> build/bdist.linux-x86_64/egg/s2cnn\n",
            "creating build/bdist.linux-x86_64/egg/s2cnn/utils\n",
            "copying build/lib/s2cnn/utils/complex.py -> build/bdist.linux-x86_64/egg/s2cnn/utils\n",
            "copying build/lib/s2cnn/utils/cuda.py -> build/bdist.linux-x86_64/egg/s2cnn/utils\n",
            "copying build/lib/s2cnn/utils/decorator.py -> build/bdist.linux-x86_64/egg/s2cnn/utils\n",
            "copying build/lib/s2cnn/utils/__init__.py -> build/bdist.linux-x86_64/egg/s2cnn/utils\n",
            "copying build/lib/s2cnn/__init__.py -> build/bdist.linux-x86_64/egg/s2cnn\n",
            "copying build/lib/s2cnn/s2_grid.py -> build/bdist.linux-x86_64/egg/s2cnn\n",
            "creating build/bdist.linux-x86_64/egg/s2cnn/soft\n",
            "copying build/lib/s2cnn/soft/so3_conv.py -> build/bdist.linux-x86_64/egg/s2cnn/soft\n",
            "copying build/lib/s2cnn/soft/so3_rotation.py -> build/bdist.linux-x86_64/egg/s2cnn/soft\n",
            "copying build/lib/s2cnn/soft/s2_fft.py -> build/bdist.linux-x86_64/egg/s2cnn/soft\n",
            "copying build/lib/s2cnn/soft/s2_conv.py -> build/bdist.linux-x86_64/egg/s2cnn/soft\n",
            "copying build/lib/s2cnn/soft/__init__.py -> build/bdist.linux-x86_64/egg/s2cnn/soft\n",
            "copying build/lib/s2cnn/soft/so3_fft.py -> build/bdist.linux-x86_64/egg/s2cnn/soft\n",
            "copying build/lib/s2cnn/soft/so3_integrate.py -> build/bdist.linux-x86_64/egg/s2cnn/soft\n",
            "byte-compiling build/bdist.linux-x86_64/egg/s2cnn/s2_ft.py to s2_ft.cpython-37.pyc\n",
            "byte-compiling build/bdist.linux-x86_64/egg/s2cnn/so3_ft.py to so3_ft.cpython-37.pyc\n",
            "byte-compiling build/bdist.linux-x86_64/egg/s2cnn/so3_grid.py to so3_grid.cpython-37.pyc\n",
            "byte-compiling build/bdist.linux-x86_64/egg/s2cnn/so3_mm.py to so3_mm.cpython-37.pyc\n",
            "byte-compiling build/bdist.linux-x86_64/egg/s2cnn/s2_mm.py to s2_mm.cpython-37.pyc\n",
            "byte-compiling build/bdist.linux-x86_64/egg/s2cnn/utils/complex.py to complex.cpython-37.pyc\n",
            "byte-compiling build/bdist.linux-x86_64/egg/s2cnn/utils/cuda.py to cuda.cpython-37.pyc\n",
            "byte-compiling build/bdist.linux-x86_64/egg/s2cnn/utils/decorator.py to decorator.cpython-37.pyc\n",
            "byte-compiling build/bdist.linux-x86_64/egg/s2cnn/utils/__init__.py to __init__.cpython-37.pyc\n",
            "byte-compiling build/bdist.linux-x86_64/egg/s2cnn/__init__.py to __init__.cpython-37.pyc\n",
            "byte-compiling build/bdist.linux-x86_64/egg/s2cnn/s2_grid.py to s2_grid.cpython-37.pyc\n",
            "byte-compiling build/bdist.linux-x86_64/egg/s2cnn/soft/so3_conv.py to so3_conv.cpython-37.pyc\n",
            "byte-compiling build/bdist.linux-x86_64/egg/s2cnn/soft/so3_rotation.py to so3_rotation.cpython-37.pyc\n",
            "byte-compiling build/bdist.linux-x86_64/egg/s2cnn/soft/s2_fft.py to s2_fft.cpython-37.pyc\n",
            "byte-compiling build/bdist.linux-x86_64/egg/s2cnn/soft/s2_conv.py to s2_conv.cpython-37.pyc\n",
            "byte-compiling build/bdist.linux-x86_64/egg/s2cnn/soft/__init__.py to __init__.cpython-37.pyc\n",
            "byte-compiling build/bdist.linux-x86_64/egg/s2cnn/soft/so3_fft.py to so3_fft.cpython-37.pyc\n",
            "byte-compiling build/bdist.linux-x86_64/egg/s2cnn/soft/so3_integrate.py to so3_integrate.cpython-37.pyc\n",
            "creating build/bdist.linux-x86_64/egg/EGG-INFO\n",
            "copying s2cnn.egg-info/PKG-INFO -> build/bdist.linux-x86_64/egg/EGG-INFO\n",
            "copying s2cnn.egg-info/SOURCES.txt -> build/bdist.linux-x86_64/egg/EGG-INFO\n",
            "copying s2cnn.egg-info/dependency_links.txt -> build/bdist.linux-x86_64/egg/EGG-INFO\n",
            "copying s2cnn.egg-info/top_level.txt -> build/bdist.linux-x86_64/egg/EGG-INFO\n",
            "zip_safe flag not set; analyzing archive contents...\n",
            "creating dist\n",
            "creating 'dist/s2cnn-1.0.0-py3.7.egg' and adding 'build/bdist.linux-x86_64/egg' to it\n",
            "removing 'build/bdist.linux-x86_64/egg' (and everything under it)\n",
            "Processing s2cnn-1.0.0-py3.7.egg\n",
            "Removing /usr/local/lib/python3.7/site-packages/s2cnn-1.0.0-py3.7.egg\n",
            "Copying s2cnn-1.0.0-py3.7.egg to /usr/local/lib/python3.7/site-packages\n",
            "s2cnn 1.0.0 is already the active version in easy-install.pth\n",
            "\n",
            "Installed /usr/local/lib/python3.7/site-packages/s2cnn-1.0.0-py3.7.egg\n",
            "Processing dependencies for s2cnn==1.0.0\n",
            "Finished processing dependencies for s2cnn==1.0.0\n"
          ],
          "name": "stdout"
        }
      ]
    },
    {
      "cell_type": "code",
      "metadata": {
        "id": "ZuA6-2ZY5tzd",
        "colab_type": "code",
        "outputId": "529222d7-78c0-4d96-bbb7-ef8d02aec105",
        "colab": {
          "base_uri": "https://localhost:8080/",
          "height": 88
        }
      },
      "source": [
        "!python3 /content/s2cnn/examples/molecules/datagen.py"
      ],
      "execution_count": 0,
      "outputs": [
        {
          "output_type": "stream",
          "text": [
            "tcmalloc: large alloc 2636726272 bytes == 0x56050afa8000 @  0x7f9ecd033001 0x7f9eca7c7d26 0x7f9eca7c7e16 0x7f9eca80db9d 0x7f9eca8123c7 0x7f9eca8b0588 0x56050725b6e4 0x56050725b801 0x5605072b72bc 0x5605071f950b 0x5605072b4250 0x56050725a79b 0x5605072b2846 0x5605071f84f9 0x5605071f93c4 0x5605071f93ec 0x560507311874 0x56050731bb81 0x56050731bd73 0x56050731ce5f 0x56050731cf7c 0x7f9ecca0fb97 0x5605072c2122\n",
            "processing molecule 7165/7165\n",
            "save to file\n"
          ],
          "name": "stdout"
        }
      ]
    },
    {
      "cell_type": "code",
      "metadata": {
        "id": "ynJmT4JZWizk",
        "colab_type": "code",
        "colab": {}
      },
      "source": [
        "!chmod +x /content/s2cnn/examples/molecules/run_all_experiments.sh "
      ],
      "execution_count": 0,
      "outputs": []
    },
    {
      "cell_type": "code",
      "metadata": {
        "id": "xFpjBVuZ5HcC",
        "colab_type": "code",
        "outputId": "41bde1e5-f7f0-4878-b05d-0eb57069bf18",
        "colab": {
          "base_uri": "https://localhost:8080/",
          "height": 887
        }
      },
      "source": [
        "!./examples/molecules/run_all_experiments.sh "
      ],
      "execution_count": 0,
      "outputs": [
        {
          "output_type": "stream",
          "text": [
            "starting run 0 for strat 0\n",
            "./examples/molecules/run_all_experiments.sh: line 8: logs/default_settings_strat_0_run_0.txt: No such file or directory\n",
            "starting run 0 for strat 1\n",
            "./examples/molecules/run_all_experiments.sh: line 8: logs/default_settings_strat_1_run_0.txt: No such file or directory\n",
            "starting run 0 for strat 2\n",
            "./examples/molecules/run_all_experiments.sh: line 8: logs/default_settings_strat_2_run_0.txt: No such file or directory\n",
            "starting run 0 for strat 3\n",
            "./examples/molecules/run_all_experiments.sh: line 8: logs/default_settings_strat_3_run_0.txt: No such file or directory\n",
            "starting run 0 for strat 4\n",
            "./examples/molecules/run_all_experiments.sh: line 8: logs/default_settings_strat_4_run_0.txt: No such file or directory\n",
            "starting run 1 for strat 0\n",
            "./examples/molecules/run_all_experiments.sh: line 8: logs/default_settings_strat_0_run_1.txt: No such file or directory\n",
            "starting run 1 for strat 1\n",
            "./examples/molecules/run_all_experiments.sh: line 8: logs/default_settings_strat_1_run_1.txt: No such file or directory\n",
            "starting run 1 for strat 2\n",
            "./examples/molecules/run_all_experiments.sh: line 8: logs/default_settings_strat_2_run_1.txt: No such file or directory\n",
            "starting run 1 for strat 3\n",
            "./examples/molecules/run_all_experiments.sh: line 8: logs/default_settings_strat_3_run_1.txt: No such file or directory\n",
            "starting run 1 for strat 4\n",
            "./examples/molecules/run_all_experiments.sh: line 8: logs/default_settings_strat_4_run_1.txt: No such file or directory\n",
            "starting run 2 for strat 0\n",
            "./examples/molecules/run_all_experiments.sh: line 8: logs/default_settings_strat_0_run_2.txt: No such file or directory\n",
            "starting run 2 for strat 1\n",
            "./examples/molecules/run_all_experiments.sh: line 8: logs/default_settings_strat_1_run_2.txt: No such file or directory\n",
            "starting run 2 for strat 2\n",
            "./examples/molecules/run_all_experiments.sh: line 8: logs/default_settings_strat_2_run_2.txt: No such file or directory\n",
            "starting run 2 for strat 3\n",
            "./examples/molecules/run_all_experiments.sh: line 8: logs/default_settings_strat_3_run_2.txt: No such file or directory\n",
            "starting run 2 for strat 4\n",
            "./examples/molecules/run_all_experiments.sh: line 8: logs/default_settings_strat_4_run_2.txt: No such file or directory\n",
            "starting run 3 for strat 0\n",
            "./examples/molecules/run_all_experiments.sh: line 8: logs/default_settings_strat_0_run_3.txt: No such file or directory\n",
            "starting run 3 for strat 1\n",
            "./examples/molecules/run_all_experiments.sh: line 8: logs/default_settings_strat_1_run_3.txt: No such file or directory\n",
            "starting run 3 for strat 2\n",
            "./examples/molecules/run_all_experiments.sh: line 8: logs/default_settings_strat_2_run_3.txt: No such file or directory\n",
            "starting run 3 for strat 3\n",
            "./examples/molecules/run_all_experiments.sh: line 8: logs/default_settings_strat_3_run_3.txt: No such file or directory\n",
            "starting run 3 for strat 4\n",
            "./examples/molecules/run_all_experiments.sh: line 8: logs/default_settings_strat_4_run_3.txt: No such file or directory\n",
            "starting run 4 for strat 0\n",
            "./examples/molecules/run_all_experiments.sh: line 8: logs/default_settings_strat_0_run_4.txt: No such file or directory\n",
            "starting run 4 for strat 1\n",
            "./examples/molecules/run_all_experiments.sh: line 8: logs/default_settings_strat_1_run_4.txt: No such file or directory\n",
            "starting run 4 for strat 2\n",
            "./examples/molecules/run_all_experiments.sh: line 8: logs/default_settings_strat_2_run_4.txt: No such file or directory\n",
            "starting run 4 for strat 3\n",
            "./examples/molecules/run_all_experiments.sh: line 8: logs/default_settings_strat_3_run_4.txt: No such file or directory\n",
            "starting run 4 for strat 4\n",
            "./examples/molecules/run_all_experiments.sh: line 8: logs/default_settings_strat_4_run_4.txt: No such file or directory\n"
          ],
          "name": "stdout"
        }
      ]
    },
    {
      "cell_type": "code",
      "metadata": {
        "id": "Mqp3mLFOA4a9",
        "colab_type": "code",
        "colab": {}
      },
      "source": [
        "os.chdir('/content/s2cnn/examples/molecules/')"
      ],
      "execution_count": 0,
      "outputs": []
    },
    {
      "cell_type": "code",
      "metadata": {
        "id": "3IYLHZkYRWs9",
        "colab_type": "code",
        "colab": {}
      },
      "source": [
        "#import subprocess \n",
        "#output = subprocess.call([\"sh run_all_experiments.sh\"])"
      ],
      "execution_count": 0,
      "outputs": []
    },
    {
      "cell_type": "code",
      "metadata": {
        "id": "fODqQ3XGYcOt",
        "colab_type": "code",
        "colab": {}
      },
      "source": [
        "sys.path.append('/usr/local/lib/python3.7/site-packages/')"
      ],
      "execution_count": 0,
      "outputs": []
    },
    {
      "cell_type": "code",
      "metadata": {
        "id": "iHa-ptrpbbiE",
        "colab_type": "code",
        "outputId": "c22a28f3-2058-4e48-9215-2a76cd6de127",
        "colab": {
          "base_uri": "https://localhost:8080/",
          "height": 3573
        }
      },
      "source": [
        "%%time\n",
        "!python /content/s2cnn/examples/molecules/run_experiment.py"
      ],
      "execution_count": 0,
      "outputs": [
        {
          "output_type": "stream",
          "text": [
            "evaluating on 0\n",
            "tcmalloc: large alloc 2636726272 bytes == 0x5622ddf10000 @  0x7fbedd3b6b6b 0x7fbedd3d6379 0x7fbedaadbc15 0x7fbedab21bfd 0x7fbedab229bf 0x7fbedabc4458 0x5622db441785 0x5622db441801 0x5622db49d87e 0x5622db44079b 0x5622db498ad0 0x5622db44079b 0x5622db498ad0 0x5622db44079b 0x5622db498846 0x5622db44079b 0x5622db498ad0 0x5622db3de4f9 0x5622db4409c5 0x5622db498846 0x5622db3de4f9 0x5622db4409c5 0x5622db49ced9 0x5622db3de4f9 0x5622db440a27 0x5622db4998fe 0x5622db44079b 0x5622db498846 0x5622db3de4f9 0x5622db3df3c4 0x5622db3df3ec\n",
            "tcmalloc: large alloc 1318363136 bytes == 0x56237b5de000 @  0x7fbedd3b6b6b 0x7fbedd3d6379 0x7fbedaadbc15 0x7fbedab21bfd 0x7fbedab21d45 0x7fbedabbe845 0x5622db4416e4 0x5622db44186f 0x5622db49d07c 0x5622db3de4f9 0x5622db440a27 0x5622db4998fe 0x5622db44079b 0x5622db498846 0x5622db3de4f9 0x5622db3df3c4 0x5622db3df3ec 0x5622db4f7874 0x5622db501b81 0x5622db501d73 0x5622db502e5f 0x5622db502f7c 0x7fbedcdb2b97 0x5622db4a8122\n",
            "loading data...done!\n",
            "training baseline model\n",
            "mlp #params: 1391\n",
            "training\n",
            "iteration 179/179\n",
            "evaluating\n",
            "iteration 44/44\n",
            "epoch 1/30 - avg train loss: 1437.7801513671875, test loss: 1079.163330078125\n",
            "training\n",
            "iteration 179/179\n",
            "evaluating\n",
            "iteration 44/44\n",
            "epoch 2/30 - avg train loss: 526.889892578125, test loss: 157.1542205810547\n",
            "training\n",
            "iteration 179/179\n",
            "evaluating\n",
            "iteration 44/44\n",
            "epoch 3/30 - avg train loss: 140.1521759033203, test loss: 128.57481384277344\n",
            "training\n",
            "iteration 179/179\n",
            "evaluating\n",
            "iteration 44/44\n",
            "epoch 4/30 - avg train loss: 115.01378631591797, test loss: 105.69017791748047\n",
            "training\n",
            "iteration 179/179\n",
            "evaluating\n",
            "iteration 44/44\n",
            "epoch 5/30 - avg train loss: 96.77517700195312, test loss: 91.38347625732422\n",
            "training\n",
            "iteration 179/179\n",
            "evaluating\n",
            "iteration 44/44\n",
            "epoch 6/30 - avg train loss: 85.28450012207031, test loss: 81.3431396484375\n",
            "training\n",
            "iteration 179/179\n",
            "evaluating\n",
            "iteration 44/44\n",
            "epoch 7/30 - avg train loss: 76.90880584716797, test loss: 74.21701049804688\n",
            "training\n",
            "iteration 179/179\n",
            "evaluating\n",
            "iteration 44/44\n",
            "epoch 8/30 - avg train loss: 69.79336547851562, test loss: 67.26730346679688\n",
            "training\n",
            "iteration 179/179\n",
            "evaluating\n",
            "iteration 44/44\n",
            "epoch 9/30 - avg train loss: 62.85723114013672, test loss: 60.101402282714844\n",
            "training\n",
            "iteration 179/179\n",
            "evaluating\n",
            "iteration 44/44\n",
            "epoch 10/30 - avg train loss: 56.065818786621094, test loss: 53.021854400634766\n",
            "training\n",
            "iteration 179/179\n",
            "evaluating\n",
            "iteration 44/44\n",
            "epoch 11/30 - avg train loss: 49.17448806762695, test loss: 46.088600158691406\n",
            "training\n",
            "iteration 179/179\n",
            "evaluating\n",
            "iteration 44/44\n",
            "epoch 12/30 - avg train loss: 42.54952621459961, test loss: 39.73384094238281\n",
            "training\n",
            "iteration 179/179\n",
            "evaluating\n",
            "iteration 44/44\n",
            "epoch 13/30 - avg train loss: 36.45570755004883, test loss: 33.80615234375\n",
            "training\n",
            "iteration 179/179\n",
            "evaluating\n",
            "iteration 44/44\n",
            "epoch 14/30 - avg train loss: 31.284202575683594, test loss: 29.04099464416504\n",
            "training\n",
            "iteration 179/179\n",
            "evaluating\n",
            "iteration 44/44\n",
            "epoch 15/30 - avg train loss: 27.194799423217773, test loss: 25.600509643554688\n",
            "training\n",
            "iteration 179/179\n",
            "evaluating\n",
            "iteration 44/44\n",
            "epoch 16/30 - avg train loss: 24.252704620361328, test loss: 23.412113189697266\n",
            "training\n",
            "iteration 179/179\n",
            "evaluating\n",
            "iteration 44/44\n",
            "epoch 17/30 - avg train loss: 22.461198806762695, test loss: 21.779638290405273\n",
            "training\n",
            "iteration 179/179\n",
            "evaluating\n",
            "iteration 44/44\n",
            "epoch 18/30 - avg train loss: 21.38340187072754, test loss: 21.264535903930664\n",
            "training\n",
            "iteration 179/179\n",
            "evaluating\n",
            "iteration 44/44\n",
            "epoch 19/30 - avg train loss: 20.901592254638672, test loss: 20.85642433166504\n",
            "training\n",
            "iteration 179/179\n",
            "evaluating\n",
            "iteration 44/44\n",
            "epoch 20/30 - avg train loss: 20.687156677246094, test loss: 20.758800506591797\n",
            "training\n",
            "iteration 179/179\n",
            "evaluating\n",
            "iteration 44/44\n",
            "epoch 21/30 - avg train loss: 20.588247299194336, test loss: 20.654848098754883\n",
            "training\n",
            "iteration 179/179\n",
            "evaluating\n",
            "iteration 44/44\n",
            "epoch 22/30 - avg train loss: 20.5701847076416, test loss: 20.692476272583008\n",
            "training\n",
            "iteration 179/179\n",
            "evaluating\n",
            "iteration 44/44\n",
            "epoch 23/30 - avg train loss: 20.495800018310547, test loss: 20.644412994384766\n",
            "training\n",
            "iteration 179/179\n",
            "evaluating\n",
            "iteration 44/44\n",
            "epoch 24/30 - avg train loss: 20.496862411499023, test loss: 20.567699432373047\n",
            "training\n",
            "iteration 179/179\n",
            "evaluating\n",
            "iteration 44/44\n",
            "epoch 25/30 - avg train loss: 20.51198387145996, test loss: 20.53532600402832\n",
            "training\n",
            "iteration 179/179\n",
            "evaluating\n",
            "iteration 44/44\n",
            "epoch 26/30 - avg train loss: 20.502742767333984, test loss: 20.625764846801758\n",
            "training\n",
            "iteration 179/179\n",
            "evaluating\n",
            "iteration 44/44\n",
            "epoch 27/30 - avg train loss: 20.549474716186523, test loss: 20.498653411865234\n",
            "training\n",
            "iteration 179/179\n",
            "evaluating\n",
            "iteration 44/44\n",
            "epoch 28/30 - avg train loss: 20.48883628845215, test loss: 20.748384475708008\n",
            "training\n",
            "iteration 179/179\n",
            "evaluating\n",
            "iteration 44/44\n",
            "epoch 29/30 - avg train loss: 20.603666305541992, test loss: 20.788795471191406\n",
            "training\n",
            "iteration 179/179\n",
            "evaluating\n",
            "iteration 44/44\n",
            "epoch 30/30 - avg train loss: 20.555099487304688, test loss: 20.69901466369629\n",
            "training residual s2cnn model\n",
            "s2cnn #params: 168809\n",
            "LR is set to 0.001\n",
            "training\n",
            "compute 0.pkl.gz... Traceback (most recent call last):\n",
            "  File \"/usr/local/lib/python3.7/site-packages/s2cnn-1.0.0-py3.7.egg/s2cnn/utils/decorator.py\", line 91, in wrapper\n",
            "    args = varargs = varkw = defaults = kwonlyargs = kwonlydefaults = ()\n",
            "  File \"/usr/local/lib/python3.7/gzip.py\", line 53, in open\n",
            "    binary_file = GzipFile(filename, gz_mode, compresslevel)\n",
            "  File \"/usr/local/lib/python3.7/gzip.py\", line 163, in __init__\n",
            "    fileobj = self.myfileobj = builtins.open(filename, mode or 'rb')\n",
            "FileNotFoundError: [Errno 2] No such file or directory: 'cache/setup_s2_fft/0.pkl.gz'\n",
            "\n",
            "During handling of the above exception, another exception occurred:\n",
            "\n",
            "Traceback (most recent call last):\n",
            "  File \"/content/s2cnn/examples/molecules/run_experiment.py\", line 217, in <module>\n",
            "    main()\n",
            "  File \"/content/s2cnn/examples/molecules/run_experiment.py\", line 213, in main\n",
            "    args.learning_rate_decay_epochs, args.device_id)\n",
            "  File \"/content/s2cnn/examples/molecules/run_experiment.py\", line 117, in train_s2cnn\n",
            "    loss = eval_batch_s2cnn(mlp, s2cnn, data, batch_idxs, criterion)\n",
            "  File \"/content/s2cnn/examples/molecules/run_experiment.py\", line 56, in eval_batch_s2cnn\n",
            "    outputs += s2cnn(geometry, atom_types)\n",
            "  File \"/usr/local/lib/python3.7/site-packages/torch/nn/modules/module.py\", line 477, in __call__\n",
            "    result = self.forward(*input, **kwargs)\n",
            "  File \"/content/s2cnn/examples/molecules/s2cnn_model.py\", line 160, in forward\n",
            "    x = block(x)\n",
            "  File \"/usr/local/lib/python3.7/site-packages/torch/nn/modules/module.py\", line 477, in __call__\n",
            "    result = self.forward(*input, **kwargs)\n",
            "  File \"/content/s2cnn/examples/molecules/s2cnn_model.py\", line 38, in forward\n",
            "    x = self.cnn(x)\n",
            "  File \"/usr/local/lib/python3.7/site-packages/torch/nn/modules/module.py\", line 477, in __call__\n",
            "    result = self.forward(*input, **kwargs)\n",
            "  File \"/usr/local/lib/python3.7/site-packages/s2cnn-1.0.0-py3.7.egg/s2cnn/soft/s2_conv.py\", line 40, in forward\n",
            "  File \"/usr/local/lib/python3.7/site-packages/s2cnn-1.0.0-py3.7.egg/s2cnn/soft/s2_fft.py\", line 234, in forward\n",
            "  File \"/usr/local/lib/python3.7/site-packages/s2cnn-1.0.0-py3.7.egg/s2cnn/soft/s2_fft.py\", line 35, in s2_fft\n",
            "  File \"/usr/local/lib/python3.7/site-packages/s2cnn-1.0.0-py3.7.egg/s2cnn/soft/s2_fft.py\", line 110, in _setup_wigner\n",
            "  File \"/usr/local/lib/python3.7/site-packages/s2cnn-1.0.0-py3.7.egg/s2cnn/utils/decorator.py\", line 97, in wrapper\n",
            "    # func can be a class or a callable, but not an instance method\n",
            "  File \"/usr/local/lib/python3.7/site-packages/s2cnn-1.0.0-py3.7.egg/s2cnn/soft/s2_fft.py\", line 117, in _setup_s2_fft\n",
            "  File \"/usr/local/lib/python3.7/site-packages/lie_learn/representations/SO3/wigner_d.py\", line 4, in <module>\n",
            "    from lie_learn.representations.SO3.pinchon_hoggan.pinchon_hoggan_dense import Jd, rot_mat\n",
            "  File \"/usr/local/lib/python3.7/site-packages/lie_learn/representations/SO3/pinchon_hoggan/pinchon_hoggan_dense.py\", line 11, in <module>\n",
            "    Jd = np.load(os.path.join(os.path.dirname(__file__), 'J_dense_0-278.npy'), encoding='latin1')\n",
            "  File \"/usr/local/lib/python3.7/site-packages/numpy/lib/npyio.py\", line 447, in load\n",
            "    pickle_kwargs=pickle_kwargs)\n",
            "  File \"/usr/local/lib/python3.7/site-packages/numpy/lib/format.py\", line 692, in read_array\n",
            "    raise ValueError(\"Object arrays cannot be loaded when \"\n",
            "ValueError: Object arrays cannot be loaded when allow_pickle=False\n",
            "CPU times: user 142 ms, sys: 28.9 ms, total: 171 ms\n",
            "Wall time: 18.7 s\n"
          ],
          "name": "stdout"
        }
      ]
    },
    {
      "cell_type": "code",
      "metadata": {
        "id": "ledghuxkHrZp",
        "colab_type": "code",
        "colab": {}
      },
      "source": [
        ""
      ],
      "execution_count": 0,
      "outputs": []
    }
  ]
}